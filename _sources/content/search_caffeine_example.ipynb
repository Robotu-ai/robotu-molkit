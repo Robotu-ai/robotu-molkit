{
 "cells": [
  {
   "cell_type": "code",
   "execution_count": null,
   "id": "17b1034c",
   "metadata": {},
   "outputs": [],
   "source": [
    "\"\"\"\n",
    "Example: Use LocalSearch.search_by_semantics_and_structure to find molecules related to a user query.\n",
    "Granite Instruct infers scaffolds and Tanimoto filtering is applied automatically.\n",
    "\"\"\"\n",
    "from robotu_molkit.credentials_manager import CredentialsManager\n",
    "from robotu_molkit.search.searcher import LocalSearch\n",
    "from robotu_molkit.constants import DEFAULT_JSONL_FILE_ROUTE"
   ]
  },
  {
   "cell_type": "code",
   "execution_count": null,
   "id": "5f37021d",
   "metadata": {},
   "outputs": [],
   "source": [
    "# --------------------------------------------------------------------------- #\n",
    "# Configuration WATSONX CREDENTIALS                                          #\n",
    "# --------------------------------------------------------------------------- #\n",
    "API_KEY    = \"WBLC6RY7mWwVGdVqWY2GVPfJ_yQjM_HzQJH5GVlFoXUp\"\n",
    "PROJECT_ID = \"13d1284a-8dae-4a88-b776-3b890b249f2d\""
   ]
  },
  {
   "cell_type": "code",
   "execution_count": null,
   "id": "dcb29fb1",
   "metadata": {},
   "outputs": [],
   "source": [
    "# Persist credentials for all LocalSearch calls\n",
    "CredentialsManager.set_api_key(API_KEY)\n",
    "CredentialsManager.set_project_id(PROJECT_ID)"
   ]
  },
  {
   "cell_type": "code",
   "execution_count": null,
   "id": "ede46cfe",
   "metadata": {},
   "outputs": [],
   "source": [
    "JSONL_PATH    = DEFAULT_JSONL_FILE_ROUTE\n",
    "SIM_THRESHOLD = 0.70\n",
    "TOP_K         = 20\n",
    "FAISS_K       = 300\n",
    "# --------------------------------------------------------------------------- #"
   ]
  },
  {
   "cell_type": "code",
   "execution_count": null,
   "id": "1c7bff3d",
   "metadata": {},
   "outputs": [],
   "source": [
    "def main():\n",
    "    # Initialize searcher\n",
    "    searcher = LocalSearch(jsonl_path=JSONL_PATH)\n",
    "\n",
    "    # Define query and metadata filters\n",
    "    query_text = (\n",
    "        \"Methylxanthine derivatives with central nervous system stimulant activity\"\n",
    "    )\n",
    "    filters = {\n",
    "        \"molecular_weight\": (0, 250),\n",
    "        \"solubility_tag\": \"soluble\"\n",
    "    }\n",
    "\n",
    "    # Perform semantic + structural search\n",
    "    results = searcher.search_by_semantics_and_structure(\n",
    "        query_text=query_text, top_k=20, faiss_k=300, filters=filters, sim_threshold=0.70\n",
    "    )\n",
    "\n",
    "    # Format and display results\n",
    "    entries = [\n",
    "        f\"CID {m['cid']} Name:{m.get('name','<unknown>')} MW:{m.get('molecular_weight',0):.1f} \"\n",
    "        f\"Sol:{m.get('solubility_tag','')} Score:{s:.3f} Tanimoto:{sim:.2f}\"\n",
    "        for m, s, sim in results\n",
    "    ]\n",
    "\n",
    "    print(\n",
    "        f\"Results for query: \\\"{query_text}\\\"\\n\"\n",
    "        f\"Top {len(entries)} hits (Granite-inferred scaffolds, Tanimoto ≥ {SIM_THRESHOLD}):\\n\"\n",
    "        + \"\\n\".join(entries)\n",
    "        + \"\\n\\nNote: Scaffold inference was performed using IBM's granite-3-8b-instruct model. \"\n",
    "        \"Semantic and structural similarity search was powered by granite-embedding-278m-multilingual.\"\n",
    "    )"
   ]
  },
  {
   "cell_type": "code",
   "execution_count": null,
   "id": "7062e53b",
   "metadata": {},
   "outputs": [],
   "source": [
    "if __name__ == \"__main__\":\n",
    "    main()"
   ]
  },
  {
   "cell_type": "code",
   "execution_count": null,
   "id": "c64bde04",
   "metadata": {
    "lines_to_next_cell": 2
   },
   "outputs": [],
   "source": []
  }
 ],
 "metadata": {
  "jupytext": {
   "cell_metadata_filter": "-all",
   "main_language": "python",
   "notebook_metadata_filter": "-all"
  }
 },
 "nbformat": 4,
 "nbformat_minor": 5
}
